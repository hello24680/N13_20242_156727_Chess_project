{
 "cells": [
  {
   "cell_type": "markdown",
   "metadata": {},
   "source": [
    "# Báo cáo Project\n",
    "Lớp TTNT-156727, Nhóm G13"
   ]
  },
  {
   "cell_type": "markdown",
   "metadata": {},
   "source": [
    "## 1. Thông tin chung"
   ]
  },
  {
   "cell_type": "markdown",
   "metadata": {},
   "source": [
    "### Thành viên\n",
    "- Phạm Tùng Dương 20225825\n",
    "- Nguyễn Bá Hoàng 20225844\n",
    "- Phan Đức Duy 20225831\n",
    "- Trương Anh Đức 20225814"
   ]
  },
  {
   "cell_type": "markdown",
   "metadata": {},
   "source": [
    "### Lịch thực hiện\n",
    "- W25: Đăng ký nhóm \n",
    "- W26: Đề xuất project (1/3)\n",
    "- W31: Báo cáo tiến độ giữa kỳ (5/4)\n",
    "- W37: Hoàn thành và gửi báo cáo project (17/5)\n",
    "- W38-40: Trình bày project, Q&A"
   ]
  },
  {
   "cell_type": "markdown",
   "metadata": {},
   "source": [
    "## 2. Đề xuất project (W26)"
   ]
  },
  {
   "cell_type": "markdown",
   "metadata": {},
   "source": [
    "### Bài toán\n",
    "Thiết kế và xây dựng chương trình chơi cờ vua với máy sử dụng trí tuệ nhân tạo"
   ]
  },
  {
   "cell_type": "markdown",
   "metadata": {},
   "source": [
    "### Phương pháp\n",
    "Nhóm chúng em sẽ áp dụng hai thuật toán chính trong chương trình là Minimax và Alpha-Beta Pruning để tìm kiếm nước đi tối ưu trong trò chơi cờ vua dựa trên cây trò chơi:\n",
    "\n",
    "- Cây trò chơi: Là cấu trúc cây biểu diễn tất cả các trạng thái có thể của trò chơi từ vị trí hiện tại. Mỗi nút trong cây tương ứng với một trạng thái của bàn cờ, còn các cạnh biểu diễn các nước đi có thể thực hiện.\n",
    "\n",
    "- Thuật toán Minimax: Duyệt qua cây trò chơi theo cách luân phiên giữa hai người chơi. Tại các nút lá, giá trị của trạng thái được tính dựa trên hàm đánh giá nhằm đánh giá lợi thế của người chơi. Giá trị của các nút cha sẽ được tính bằng cách chọn giá trị lớn nhất ở lượt chơi của người chơi hiện tại và giá trị nhỏ nhất ở lượt chơi của đối thủ.\n",
    "\n",
    "- Thuật toán Alpha-Beta Pruning: Là một cải tiến của Minimax nhằm giảm số lượng trạng thái cần kiểm tra trong cây trò chơi. Khi duyệt qua cây, nếu giá trị của một nút con đạt ngưỡng đủ lớn hoặc đủ nhỏ so với giá trị tối ưu hiện tại, các nhánh con còn lại sẽ bị loại bỏ mà không cần kiểm tra. Kỹ thuật này sẽ làm tăng tốc độ tính toán đáng kể trong khi vẫn đảm bảo kết quả như Minimax."
   ]
  },
  {
   "cell_type": "markdown",
   "metadata": {},
   "source": [
    "### Phân công\n",
    "- Phạm Tùng Dương: nghiên cứu và phát triển thuật toán Minimax\n",
    "- Nguyễn Bá Hoàng: nghiên cứu và phát triển thuật toán Alpha-Beta Pruning\n",
    "- Phan Đức Duy: nghiên cứu và phát triển giao diện, viết báo cáo\n",
    "- Trương Anh Đức: nghiên cứu và phát triển quy luật, kiểm thử\n",
    "\n",
    "\n"
   ]
  },
  {
   "cell_type": "markdown",
   "metadata": {},
   "source": [
    "## 3. Tiến độ giữa kỳ (W31)"
   ]
  },
  {
   "cell_type": "markdown",
   "metadata": {},
   "source": [
    "### Chương trình\n",
    "- link github chương trình: https://github.com/hello24680/N13_20242_156727_Chess_project"
   ]
  },
  {
   "cell_type": "markdown",
   "metadata": {},
   "source": [
    "### Kết quả, vấn đề gặp phải\n",
    "Tiến độ công việc: \n",
    "- Phần luật trò chơi: Tương đối đã hoàn thành (các nước đi cơ bản và các nước đi đặc biệt).\n",
    "- Phần giao diện: Đã hoàn thành 60% (còn thiếu giao diện chọn chức năng, giao diện kết thúc trò chơi, Move animation và highlight).\n",
    "\n",
    "Mục tiêu nửa kỳ còn lại:\n",
    "- phần Giao diện: hoàn thành giao diện chọn chức năng chơi cơ bản, giao diện kết thúc trò chơi và bổ sung thêm Move animation và highlight.\n",
    "- phần AI: xây dựng thuật toán tìm kiếm nước đi cơ bản, bao gồm xây dựng mô hình AI cơ bản với Minimax, tối ưu bằng cắt tỉa Alpha-Beta và cải thiện thêm hiệu suất với các hàm ước lượng heuristic."
   ]
  },
  {
   "cell_type": "markdown",
   "metadata": {},
   "source": [
    "## 4. Cập nhật kết quả cuối kỳ (W37)"
   ]
  },
  {
   "cell_type": "markdown",
   "metadata": {},
   "source": [
    "### Chi tiết phương pháp, dữ liệu\n",
    "1. **Cây trò chơi**<br>\n",
    "<img src=\"./anhbc/so_do_cay.png\" alt=\"sơ đồ cây\" width=\"600\"> <br>\n",
    "- Cây trò chơi là một cấu trúc dữ liệu dạng cây dùng để mô tả toàn bộ các trạng thái có thể xảy ra trong một trò chơi theo từng lượt đi của các người chơi. <br>\n",
    "\n",
    "**Cấu trúc bao gồm:**\n",
    "* **Nút gốc (root)**: đại diện cho trạng thái ban đầu của trò chơi (bàn cờ ban đầu)\n",
    "* **Nút con (child nodes)**: đại diện cho các trạng thái tiếp theo của bàn cờ cho các nước tiếp theo\n",
    "* **Nút lá (leaves)**: là các trạng thái kết thúc <br>\n",
    "\n",
    "**Đặc điểm:**\n",
    "* mỗi tầng là một lượt chơi của một bên\n",
    "* kích thước của cây là vô cùng lớn, mỗi node có thể phân ra 1-16 node khác và độ sâu có thể lên đến hàng trăm tùy thuộc vào ván chơi\n",
    "\n",
    "2. **Giải thuật NegaMax**\n",
    "\n",
    "<img src=\"./anhbc/NegaMax.png\" alt=\"N\" width=\"600\"> <br>\n",
    "\n",
    "**Nhận định**\n",
    "* Tại một thời điểm ở đỉnh U (trạng thái hiện tại), ta cần xác định nước đi tốt nhất để di chuyển.\n",
    "* để chọn nước đi tốt nhất cho U ta cần xác định giá trị của các đỉnh có gốc là U\n",
    "\n",
    "**Cách tính điểm**\n",
    "* Mỗi đỉnh trong cây trò chơi có một giá trị điểm (score) phản ánh lợi thế của người chơi hiện tại.\n",
    "* để xác định giá trị tại đỉnh có gốc là U, ta cần phải đi từ mức thấp nhất cho đến đỉnh U.\n",
    "* Khi đến lượt đối thủ, điểm số tại các nhánh con được đảo dấu, vì lợi thế của đối thủ là bất lợi của ta: value = max(-negaMax(child))\n",
    "* Khác với MiniMax ta không cần xác định ai là người đang chơi\n",
    "\n",
    "**Phân tích**\n",
    "* nếu chỉ sử dụng giải thuật NegaMax thì ta buộc phải có tất cả các trạng thái <br> điều đó là không khả thi vì không gian trạng thái là rất lớn. khi độ sâu >= 3 máy sẽ bị treo\n",
    "\n",
    "3. Cắt tỉa Alpha_Beta\n",
    "\n",
    "<img src=\"./anhbc/alphabeta.png\" alt=\"N\" width=\"600\"> <br>\n",
    "\n",
    "**Giới thiệu**\n",
    "* mục đích là để giảm số nhánh của cây tìm kiếm\n",
    "* không làm ảnh hưởng đến đánh giá của các đỉnh đang xét\n",
    "* loại bỏ các nhánh không cần thiết cho sự đánh giá của đỉnh đang xét\n",
    "\n",
    "**Giải thích ví dụ trên**\n",
    "* ta xét vị trí \"?\"\n",
    "* ta thấy ? phải lớn hơn 7 và ? phải nhỏ hơn 5 nếu không ? sẽ không có ý nghĩa\n",
    "* và ta cũng nhận thấy ?>7 và ?<5 là không tồn tại\n",
    "* vì vậy nhánh này sẽ bị cắt bỏ và không xét tới\n",
    "* trong thuật toán ta chỉ cần xét điều kiện nếu như alpha >= beta thì nhánh đó sẽ không được xét\n",
    "\n",
    "4. Hàm đánh giá\n",
    "\n",
    "<img src=\"./anhbc/hamdanhgia.png\" alt=\"N\" width=\"600\"> <br>\n",
    "\n",
    "**Giải thích**\n",
    "* hàm trên sử dụng cơ chế tính điểm dự trên chất cờ và vị trí của tất cả các quân cờ có mặt trên bàn (trừ quân vua). $Điểm = \\sum {giá trị quân cờ + vị trí của quân đó}$\n",
    "* Điểm (+) là lợi thế thuộc về bên trắng (người chơi)\n",
    "* Điểm (-) là lợi thế thuộc về bên đen (máy)\n",
    "* -1000 là đen thắng và ngược lại\n",
    "\n",
    "**Giá trị điểm của từng quân cờ và giá trị vị trí của chúng**\n",
    "\n",
    "<img src=\"./anhbc/diem.png\" alt=\"N\" width=\"600\"> <br>\n",
    "\n"
   ]
  },
  {
   "cell_type": "markdown",
   "metadata": {},
   "source": [
    "### Chương trình\n",
    "\n",
    "Link github của dự án: [github](https://github.com/hello24680/N13_20242_156727_Chess_project)"
   ]
  },
  {
   "cell_type": "markdown",
   "metadata": {},
   "source": [
    "### Phân tích, đánh giá kết quả\n",
    "..."
   ]
  },
  {
   "cell_type": "markdown",
   "metadata": {},
   "source": [
    "### Cập nhật phân công, khối lượng công việc\n",
    "<!-- công việc của các thành viên, tỷ lệ đóng góp của các thành viên -->\n",
    "|  Tên thành viên  |  Mã số sinh viên  | Nhiệm vụ                                                                       |\n",
    "|:----------------:|:-----------------:|:-------------------------------------------------------------------------------|\n",
    "|   Phan Đức Duy   |     20225831      | Triển khai thuật toán NegaMax, chỉnh sửa giao diện bàn cờ, slide, báo cáo      |\n",
    "| Nguyễn Bá Hoàng  |     20225844      | Triển khai luật chơi, thiết kế giao diện bàn cờ, báo cáo                       |\n",
    "|  Trương Anh Đức  |     20225814      | Hỗ trợ triển khai luật chơi, kiểm thử                                          |\n",
    "| Phạm Tùng Dương  |     20225825      | Bổ xung giao diện đăng nhập, chế độ chơi, cải thiện thuật toán, cách tính điểm |\n"
   ]
  }
 ],
 "metadata": {
  "kernelspec": {
   "display_name": "Python 3",
   "language": "python",
   "name": "python3"
  },
  "language_info": {
   "codemirror_mode": {
    "name": "ipython",
    "version": 3
   },
   "file_extension": ".py",
   "mimetype": "text/x-python",
   "name": "python",
   "nbconvert_exporter": "python",
   "pygments_lexer": "ipython3",
   "version": "3.11.3"
  }
 },
 "nbformat": 4,
 "nbformat_minor": 2
}
